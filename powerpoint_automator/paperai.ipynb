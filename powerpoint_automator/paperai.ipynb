{
 "cells": [
  {
   "cell_type": "code",
   "execution_count": null,
   "metadata": {},
   "outputs": [
    {
     "ename": "",
     "evalue": "",
     "output_type": "error",
     "traceback": [
      "\u001b[1;31mRunning cells with 'privateGPT (Python 3.11.7)' requires the ipykernel package.\n",
      "\u001b[1;31mRun the following command to install 'ipykernel' into the Python environment. \n",
      "\u001b[1;31mCommand: 'conda install -n privateGPT ipykernel --update-deps --force-reinstall'"
     ]
    }
   ],
   "source": [
    "!pip install git+https://github.com/neuml/paperai scipy=1.10.0"
   ]
  }
 ],
 "metadata": {
  "kernelspec": {
   "display_name": "privateGPT",
   "language": "python",
   "name": "python3"
  },
  "language_info": {
   "name": "python",
   "version": "3.11.7"
  }
 },
 "nbformat": 4,
 "nbformat_minor": 2
}
